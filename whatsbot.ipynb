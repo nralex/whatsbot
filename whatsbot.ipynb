{
 "cells": [
  {
   "cell_type": "markdown",
   "metadata": {},
   "source": [
    "# Cuidados!\n",
    "\n",
    "1. WhatsApp não gosta de nenhum tipo de automação\n",
    "2. Dependendo do tamanho da automação a conta pode ser bloqueada\n",
    "3. Isso não é o uso da API oficial do WhatsApp, o próprio WhatsApp tem uma API oficial. Se o seu objetivo é fazer envio em massa ou criar aqueles robozinhos que respondem automaticamente no WhatsApp, então use a API oficial\n",
    "4. Meu objetivo é 100% educacional"
   ]
  },
  {
   "cell_type": "code",
   "execution_count": null,
   "metadata": {},
   "outputs": [],
   "source": [
    "from selenium import webdriver\n",
    "from selenium.webdriver.common.keys import Keys\n",
    "from webdriver_manager.chrome import ChromeDriverManager\n",
    "from time import sleep\n",
    "\n",
    "navegador = webdriver.Chrome(ChromeDriverManager().install())\n",
    "navegador.get(\"https://web.whatsapp.com/\")"
   ]
  },
  {
   "cell_type": "markdown",
   "metadata": {},
   "source": [
    "## Faça a leitura do QR Code e aguarde a página carregar completamente\n",
    "\n",
    "### _Lembre-se de que os contos devem estar armazenados também no seu aparelho_"
   ]
  },
  {
   "cell_type": "code",
   "execution_count": 17,
   "metadata": {},
   "outputs": [],
   "source": [
    "contatos = ['Coloque aqui o nome do contato']"
   ]
  },
  {
   "cell_type": "markdown",
   "metadata": {},
   "source": [
    "## Tenha a certeza de que o realmente tem todos os contatos salvos na agenda do celular."
   ]
  },
  {
   "cell_type": "code",
   "execution_count": null,
   "metadata": {},
   "outputs": [],
   "source": [
    "mensagens = \"Lhe desejo um ano cheio de realizações e sucesso!\"\n",
    "for c in contatos:\n",
    "    try:\n",
    "        navegador.find_element_by_xpath('//*[@id=\"side\"]/div[1]/div/label/div/div[2]').send_keys(c)\n",
    "        sleep(2)\n",
    "        navegador.find_element_by_xpath('//*[@id=\"side\"]/div[1]/div/label/div/div[2]').send_keys(Keys.ENTER)\n",
    "        sleep(1)\n",
    "        navegador.find_element_by_xpath('//*[@id=\"main\"]/footer/div[1]/div/span[2]/div/div[2]/div[1]/div/div[2]').send_keys(f\"Oi {c}!\\n{mensagens}\\n\")\n",
    "        sleep(3)\n",
    "    except:\n",
    "        pass"
   ]
  },
  {
   "cell_type": "markdown",
   "metadata": {},
   "source": [
    "### É simples assim\n",
    "Mas dá para implementar muita coisa a partir do código, como mensagens mais personalizadas ainda com dados que interessam somente a cada contato, mesmo com um texto padrão."
   ]
  }
 ],
 "metadata": {
  "interpreter": {
   "hash": "2b2827d7d832da3fa85cb424183bff687ae79077659f52036c0132a421f32793"
  },
  "kernelspec": {
   "display_name": "Python 3.10.1 64-bit ('venv': venv)",
   "language": "python",
   "name": "python3"
  },
  "language_info": {
   "codemirror_mode": {
    "name": "ipython",
    "version": 3
   },
   "file_extension": ".py",
   "mimetype": "text/x-python",
   "name": "python",
   "nbconvert_exporter": "python",
   "pygments_lexer": "ipython3",
   "version": "3.10.1"
  },
  "orig_nbformat": 4
 },
 "nbformat": 4,
 "nbformat_minor": 2
}
