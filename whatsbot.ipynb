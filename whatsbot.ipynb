{
 "cells": [
  {
   "cell_type": "markdown",
   "metadata": {},
   "source": [
    "# Cuidados!\n",
    "\n",
    "1. WhatsApp não gosta de nenhum tipo de automação\n",
    "2. Dependendo do tamanho da automação a conta pode ser bloqueada\n",
    "3. Isso não é o uso da API oficial do WhatsApp, o próprio WhatsApp tem uma API oficial. Se o seu objetivo é fazer envio em massa ou criar aqueles robozinhos que respondem automaticamente no WhatsApp, então use a API oficial\n",
    "4. Meu objetivo é 100% educacional"
   ]
  },
  {
   "cell_type": "code",
   "execution_count": 1,
   "metadata": {},
   "outputs": [
    {
     "name": "stderr",
     "output_type": "stream",
     "text": [
      "\n",
      "\n",
      "====== WebDriver manager ======\n",
      "Current google-chrome version is 96.0.4664\n",
      "Get LATEST chromedriver version for 96.0.4664 google-chrome\n",
      "Trying to download new driver from https://chromedriver.storage.googleapis.com/96.0.4664.45/chromedriver_win32.zip\n",
      "Driver has been saved in cache [C:\\Users\\axnr\\.wdm\\drivers\\chromedriver\\win32\\96.0.4664.45]\n",
      "C:\\Users\\axnr\\AppData\\Local\\Temp/ipykernel_9240/1431395613.py:6: DeprecationWarning: executable_path has been deprecated, please pass in a Service object\n",
      "  navegador = webdriver.Chrome(ChromeDriverManager().install())\n"
     ]
    }
   ],
   "source": [
    "from selenium import webdriver\n",
    "from selenium.webdriver.common.keys import Keys\n",
    "from webdriver_manager.chrome import ChromeDriverManager\n",
    "from time import sleep\n",
    "\n",
    "navegador = webdriver.Chrome(ChromeDriverManager().install())\n",
    "navegador.get(\"https://web.whatsapp.com/\")"
   ]
  },
  {
   "cell_type": "code",
   "execution_count": 17,
   "metadata": {},
   "outputs": [],
   "source": [
    "contatos = ['ALICE OLIVEIRA DA MATA',\n",
    "    'AMANDA NEGREIROS ARRAIS',\n",
    "    'ANA BEATRIZ MOTA RIBEIRO DE CASTRO',\n",
    "    'ANA KARLA FERREIRA LOPES',\n",
    "    'ANA MARIA DOS SANTOS NUNES',\n",
    "    'ANA VITORIA DIAS DA SILVA',\n",
    "    'BARBARA LOURRANNY NEGREIROS FERREIRA LIMA',\n",
    "    'BARBARA NERI CAVALCANTE DA SILVA',\n",
    "    'BEATRIZ FERREIRA RIBEIRO',\n",
    "    'BRUNA MARQUES DOS SANTOS',\n",
    "    'CHAELLY DUARTE DA SILVA SOUZA',\n",
    "    'CLARA MARIA DO NASCIMENTO ARAUJO COSTA',\n",
    "    'CLEYBER DE SENA TARQUINO SOARES',\n",
    "    'DEOMAR PEREIRA DA SILVA JÚNIOR',\n",
    "    'EMANUELA DIAS DA SILVA ALMEIDA',\n",
    "    'ESTEFANY VIANA LACERDA',\n",
    "    'GABRIELA RIBEIRO GOVEIA',\n",
    "    'GUSTAVO DIAS NUNES',\n",
    "    'HELOISA MARIA DA SILVA SOUSA',\n",
    "    'IARA CAMILY PAES LANDIM SANTANA',\n",
    "    'ISRAIANA DA SILVA FERREIRA CARVALHO',\n",
    "    'JAKSON BRENNER DIAS VILANOVA',\n",
    "    'JOAO VICTOR SOUSA MARQUES',\n",
    "    'JONATAS RIBEIRO LIMA SANTOS',\n",
    "    'JULIA SANTANA DA SILVA',\n",
    "    'KAWAN RIBEIRO DIAS BARROS',\n",
    "    'LEILA MONIQUE SOUZA LOPES',\n",
    "    'MARIA LUIZA DA SILVA LIMA',\n",
    "    'NATIELLE DA COSTA SANTOS',\n",
    "    'NILTÂNIA DIAS VIANA',\n",
    "    'RAIMUNDO AMERICO RUBEN NETO',\n",
    "    'SAMARITANA DUARTE PAES LANDIM SOUSA',\n",
    "    'SARAH EMANNUELLE SOARES DE ARAUJO',\n",
    "    'VITORIA MARIA ALVES DE CAMPOS',\n",
    "    'WALLACE DA SILVA CASTRO']"
   ]
  },
  {
   "cell_type": "code",
   "execution_count": 18,
   "metadata": {},
   "outputs": [
    {
     "name": "stderr",
     "output_type": "stream",
     "text": [
      "C:\\Users\\axnr\\AppData\\Local\\Temp/ipykernel_9240/500142436.py:4: DeprecationWarning: find_element_by_* commands are deprecated. Please use find_element() instead\n",
      "  navegador.find_element_by_xpath('//*[@id=\"side\"]/div[1]/div/label/div/div[2]').send_keys(c)\n",
      "C:\\Users\\axnr\\AppData\\Local\\Temp/ipykernel_9240/500142436.py:6: DeprecationWarning: find_element_by_* commands are deprecated. Please use find_element() instead\n",
      "  navegador.find_element_by_xpath('//*[@id=\"side\"]/div[1]/div/label/div/div[2]').send_keys(Keys.ENTER)\n",
      "C:\\Users\\axnr\\AppData\\Local\\Temp/ipykernel_9240/500142436.py:8: DeprecationWarning: find_element_by_* commands are deprecated. Please use find_element() instead\n",
      "  navegador.find_element_by_xpath('//*[@id=\"main\"]/footer/div[1]/div/span[2]/div/div[2]/div[1]/div/div[2]').send_keys(f\"Oi {c}!\\n{mensagens}\\n\")\n"
     ]
    }
   ],
   "source": [
    "mensagens = \"Lhe desejo um ano cheio de realizações e sucesso!\"\n",
    "for c in contatos:\n",
    "    try:\n",
    "        navegador.find_element_by_xpath('//*[@id=\"side\"]/div[1]/div/label/div/div[2]').send_keys(c)\n",
    "        sleep(2)\n",
    "        navegador.find_element_by_xpath('//*[@id=\"side\"]/div[1]/div/label/div/div[2]').send_keys(Keys.ENTER)\n",
    "        sleep(1)\n",
    "        navegador.find_element_by_xpath('//*[@id=\"main\"]/footer/div[1]/div/span[2]/div/div[2]/div[1]/div/div[2]').send_keys(f\"Oi {c}!\\n{mensagens}\\n\")\n",
    "        sleep(3)\n",
    "    except:\n",
    "        pass"
   ]
  }
 ],
 "metadata": {
  "interpreter": {
   "hash": "2b2827d7d832da3fa85cb424183bff687ae79077659f52036c0132a421f32793"
  },
  "kernelspec": {
   "display_name": "Python 3.10.1 64-bit ('venv': venv)",
   "language": "python",
   "name": "python3"
  },
  "language_info": {
   "codemirror_mode": {
    "name": "ipython",
    "version": 3
   },
   "file_extension": ".py",
   "mimetype": "text/x-python",
   "name": "python",
   "nbconvert_exporter": "python",
   "pygments_lexer": "ipython3",
   "version": "3.10.1"
  },
  "orig_nbformat": 4
 },
 "nbformat": 4,
 "nbformat_minor": 2
}
